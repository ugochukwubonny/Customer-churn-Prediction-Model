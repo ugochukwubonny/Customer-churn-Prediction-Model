{
 "cells": [
  {
   "cell_type": "markdown",
   "id": "e5edc973",
   "metadata": {},
   "source": [
    "# Project Customer churn data."
   ]
  },
  {
   "cell_type": "markdown",
   "id": "4ff67f42",
   "metadata": {},
   "source": [
    "### Importing libraries"
   ]
  },
  {
   "cell_type": "code",
   "execution_count": 30,
   "id": "0d3df7b8",
   "metadata": {},
   "outputs": [],
   "source": [
    "import pandas as pd\n",
    "import matplotlib.pyplot as plt\n",
    "import plotly.express as px\n",
    "import numpy as np\n",
    "import warnings\n",
    "\n",
    "from glob import glob\n",
    "from sklearn.linear_model import LogisticRegression\n",
    "from sklearn.impute import SimpleImputer\n",
    "from category_encoders import OneHotEncoder\n",
    "from sklearn.model_selection import train_test_split\n",
    "from sklearn.metrics import accuracy_score\n",
    "from sklearn.pipeline import make_pipeline\n",
    "\n",
    "warnings.filterwarnings(\"ignore\")"
   ]
  },
  {
   "cell_type": "code",
   "execution_count": 2,
   "id": "88219f81",
   "metadata": {},
   "outputs": [],
   "source": [
    "def wrangle(filepath):\n",
    "    df = pd.read_csv(filepath)\n",
    "    \n",
    "    # removing the the customer ID column which numbers the whole data set\n",
    "    df.drop(columns=['CustomerID'], inplace=True)\n",
    "    \n",
    "    # converting Churn column from float to int\n",
    "    df['Churn'] = (df['Churn']>0).astype(int)\n",
    "    \n",
    "    return df"
   ]
  },
  {
   "cell_type": "code",
   "execution_count": 6,
   "id": "92926755",
   "metadata": {},
   "outputs": [
    {
     "name": "stdout",
     "output_type": "stream",
     "text": [
      "['C:\\\\Users\\\\Gbest\\\\Desktop\\\\customer_churn_dataset-master-1.csv', 'C:\\\\Users\\\\Gbest\\\\Desktop\\\\customer_churn_dataset-master-2.csv']\n"
     ]
    }
   ],
   "source": [
    "files = glob(\"customer_churn_dataset-*.csv\")\n",
    "print(files)"
   ]
  },
  {
   "cell_type": "code",
   "execution_count": 7,
   "id": "fa9aec52",
   "metadata": {},
   "outputs": [],
   "source": [
    "frame = []\n",
    "for file in files:\n",
    "    df = wrangle(file)\n",
    "    frame.append(df)"
   ]
  },
  {
   "cell_type": "code",
   "execution_count": 8,
   "id": "fb6ddeca",
   "metadata": {},
   "outputs": [
    {
     "name": "stdout",
     "output_type": "stream",
     "text": [
      "(505207, 11)\n",
      "<class 'pandas.core.frame.DataFrame'>\n",
      "RangeIndex: 505207 entries, 0 to 505206\n",
      "Data columns (total 11 columns):\n",
      " #   Column             Non-Null Count   Dtype  \n",
      "---  ------             --------------   -----  \n",
      " 0   Age                505206 non-null  float64\n",
      " 1   Gender             505206 non-null  object \n",
      " 2   Tenure             505206 non-null  float64\n",
      " 3   Usage Frequency    505206 non-null  float64\n",
      " 4   Support Calls      505206 non-null  float64\n",
      " 5   Payment Delay      505206 non-null  float64\n",
      " 6   Subscription Type  505206 non-null  object \n",
      " 7   Contract Length    505206 non-null  object \n",
      " 8   Total Spend        505206 non-null  float64\n",
      " 9   Last Interaction   505206 non-null  float64\n",
      " 10  Churn              505207 non-null  int32  \n",
      "dtypes: float64(7), int32(1), object(3)\n",
      "memory usage: 40.5+ MB\n",
      "None\n"
     ]
    },
    {
     "data": {
      "text/html": [
       "<div>\n",
       "<style scoped>\n",
       "    .dataframe tbody tr th:only-of-type {\n",
       "        vertical-align: middle;\n",
       "    }\n",
       "\n",
       "    .dataframe tbody tr th {\n",
       "        vertical-align: top;\n",
       "    }\n",
       "\n",
       "    .dataframe thead th {\n",
       "        text-align: right;\n",
       "    }\n",
       "</style>\n",
       "<table border=\"1\" class=\"dataframe\">\n",
       "  <thead>\n",
       "    <tr style=\"text-align: right;\">\n",
       "      <th></th>\n",
       "      <th>Age</th>\n",
       "      <th>Gender</th>\n",
       "      <th>Tenure</th>\n",
       "      <th>Usage Frequency</th>\n",
       "      <th>Support Calls</th>\n",
       "      <th>Payment Delay</th>\n",
       "      <th>Subscription Type</th>\n",
       "      <th>Contract Length</th>\n",
       "      <th>Total Spend</th>\n",
       "      <th>Last Interaction</th>\n",
       "      <th>Churn</th>\n",
       "    </tr>\n",
       "  </thead>\n",
       "  <tbody>\n",
       "    <tr>\n",
       "      <th>0</th>\n",
       "      <td>30.0</td>\n",
       "      <td>Female</td>\n",
       "      <td>39.0</td>\n",
       "      <td>14.0</td>\n",
       "      <td>5.0</td>\n",
       "      <td>18.0</td>\n",
       "      <td>Standard</td>\n",
       "      <td>Annual</td>\n",
       "      <td>932.0</td>\n",
       "      <td>17.0</td>\n",
       "      <td>1</td>\n",
       "    </tr>\n",
       "    <tr>\n",
       "      <th>1</th>\n",
       "      <td>65.0</td>\n",
       "      <td>Female</td>\n",
       "      <td>49.0</td>\n",
       "      <td>1.0</td>\n",
       "      <td>10.0</td>\n",
       "      <td>8.0</td>\n",
       "      <td>Basic</td>\n",
       "      <td>Monthly</td>\n",
       "      <td>557.0</td>\n",
       "      <td>6.0</td>\n",
       "      <td>1</td>\n",
       "    </tr>\n",
       "    <tr>\n",
       "      <th>2</th>\n",
       "      <td>55.0</td>\n",
       "      <td>Female</td>\n",
       "      <td>14.0</td>\n",
       "      <td>4.0</td>\n",
       "      <td>6.0</td>\n",
       "      <td>18.0</td>\n",
       "      <td>Basic</td>\n",
       "      <td>Quarterly</td>\n",
       "      <td>185.0</td>\n",
       "      <td>3.0</td>\n",
       "      <td>1</td>\n",
       "    </tr>\n",
       "    <tr>\n",
       "      <th>3</th>\n",
       "      <td>58.0</td>\n",
       "      <td>Male</td>\n",
       "      <td>38.0</td>\n",
       "      <td>21.0</td>\n",
       "      <td>7.0</td>\n",
       "      <td>7.0</td>\n",
       "      <td>Standard</td>\n",
       "      <td>Monthly</td>\n",
       "      <td>396.0</td>\n",
       "      <td>29.0</td>\n",
       "      <td>1</td>\n",
       "    </tr>\n",
       "    <tr>\n",
       "      <th>4</th>\n",
       "      <td>23.0</td>\n",
       "      <td>Male</td>\n",
       "      <td>32.0</td>\n",
       "      <td>20.0</td>\n",
       "      <td>5.0</td>\n",
       "      <td>8.0</td>\n",
       "      <td>Basic</td>\n",
       "      <td>Monthly</td>\n",
       "      <td>617.0</td>\n",
       "      <td>20.0</td>\n",
       "      <td>1</td>\n",
       "    </tr>\n",
       "  </tbody>\n",
       "</table>\n",
       "</div>"
      ],
      "text/plain": [
       "    Age  Gender  Tenure  Usage Frequency  Support Calls  Payment Delay  \\\n",
       "0  30.0  Female    39.0             14.0            5.0           18.0   \n",
       "1  65.0  Female    49.0              1.0           10.0            8.0   \n",
       "2  55.0  Female    14.0              4.0            6.0           18.0   \n",
       "3  58.0    Male    38.0             21.0            7.0            7.0   \n",
       "4  23.0    Male    32.0             20.0            5.0            8.0   \n",
       "\n",
       "  Subscription Type Contract Length  Total Spend  Last Interaction  Churn  \n",
       "0          Standard          Annual        932.0              17.0      1  \n",
       "1             Basic         Monthly        557.0               6.0      1  \n",
       "2             Basic       Quarterly        185.0               3.0      1  \n",
       "3          Standard         Monthly        396.0              29.0      1  \n",
       "4             Basic         Monthly        617.0              20.0      1  "
      ]
     },
     "execution_count": 8,
     "metadata": {},
     "output_type": "execute_result"
    }
   ],
   "source": [
    "df = pd.concat(frame, ignore_index=True)\n",
    "print(df.shape)\n",
    "print(df.info())\n",
    "df.head()"
   ]
  },
  {
   "cell_type": "markdown",
   "id": "c4cfd445",
   "metadata": {},
   "source": [
    "**Exploratory Data Analysis**"
   ]
  },
  {
   "cell_type": "code",
   "execution_count": 9,
   "id": "c1e81fd2",
   "metadata": {},
   "outputs": [
    {
     "data": {
      "text/plain": [
       "313264481.71999997"
      ]
     },
     "execution_count": 9,
     "metadata": {},
     "output_type": "execute_result"
    }
   ],
   "source": [
    "df[\"Total Spend\"].sum()"
   ]
  },
  {
   "cell_type": "markdown",
   "id": "e7030d37",
   "metadata": {},
   "source": [
    " The overall amount been transacted by customers annually is over $300 million."
   ]
  },
  {
   "cell_type": "code",
   "execution_count": 10,
   "id": "98c70eec",
   "metadata": {},
   "outputs": [
    {
     "data": {
      "text/plain": [
       "array(['Female', 'Male', nan], dtype=object)"
      ]
     },
     "execution_count": 10,
     "metadata": {},
     "output_type": "execute_result"
    }
   ],
   "source": [
    "df[\"Gender\"].unique()"
   ]
  },
  {
   "cell_type": "code",
   "execution_count": 11,
   "id": "2764786c",
   "metadata": {},
   "outputs": [
    {
     "name": "stdout",
     "output_type": "stream",
     "text": [
      "(224933, 11)\n"
     ]
    },
    {
     "data": {
      "text/html": [
       "<div>\n",
       "<style scoped>\n",
       "    .dataframe tbody tr th:only-of-type {\n",
       "        vertical-align: middle;\n",
       "    }\n",
       "\n",
       "    .dataframe tbody tr th {\n",
       "        vertical-align: top;\n",
       "    }\n",
       "\n",
       "    .dataframe thead th {\n",
       "        text-align: right;\n",
       "    }\n",
       "</style>\n",
       "<table border=\"1\" class=\"dataframe\">\n",
       "  <thead>\n",
       "    <tr style=\"text-align: right;\">\n",
       "      <th></th>\n",
       "      <th>Age</th>\n",
       "      <th>Gender</th>\n",
       "      <th>Tenure</th>\n",
       "      <th>Usage Frequency</th>\n",
       "      <th>Support Calls</th>\n",
       "      <th>Payment Delay</th>\n",
       "      <th>Subscription Type</th>\n",
       "      <th>Contract Length</th>\n",
       "      <th>Total Spend</th>\n",
       "      <th>Last Interaction</th>\n",
       "      <th>Churn</th>\n",
       "    </tr>\n",
       "  </thead>\n",
       "  <tbody>\n",
       "    <tr>\n",
       "      <th>0</th>\n",
       "      <td>30.0</td>\n",
       "      <td>Female</td>\n",
       "      <td>39.0</td>\n",
       "      <td>14.0</td>\n",
       "      <td>5.0</td>\n",
       "      <td>18.0</td>\n",
       "      <td>Standard</td>\n",
       "      <td>Annual</td>\n",
       "      <td>932.0</td>\n",
       "      <td>17.0</td>\n",
       "      <td>1</td>\n",
       "    </tr>\n",
       "    <tr>\n",
       "      <th>1</th>\n",
       "      <td>65.0</td>\n",
       "      <td>Female</td>\n",
       "      <td>49.0</td>\n",
       "      <td>1.0</td>\n",
       "      <td>10.0</td>\n",
       "      <td>8.0</td>\n",
       "      <td>Basic</td>\n",
       "      <td>Monthly</td>\n",
       "      <td>557.0</td>\n",
       "      <td>6.0</td>\n",
       "      <td>1</td>\n",
       "    </tr>\n",
       "    <tr>\n",
       "      <th>2</th>\n",
       "      <td>55.0</td>\n",
       "      <td>Female</td>\n",
       "      <td>14.0</td>\n",
       "      <td>4.0</td>\n",
       "      <td>6.0</td>\n",
       "      <td>18.0</td>\n",
       "      <td>Basic</td>\n",
       "      <td>Quarterly</td>\n",
       "      <td>185.0</td>\n",
       "      <td>3.0</td>\n",
       "      <td>1</td>\n",
       "    </tr>\n",
       "    <tr>\n",
       "      <th>6</th>\n",
       "      <td>58.0</td>\n",
       "      <td>Female</td>\n",
       "      <td>49.0</td>\n",
       "      <td>12.0</td>\n",
       "      <td>3.0</td>\n",
       "      <td>16.0</td>\n",
       "      <td>Standard</td>\n",
       "      <td>Quarterly</td>\n",
       "      <td>821.0</td>\n",
       "      <td>24.0</td>\n",
       "      <td>1</td>\n",
       "    </tr>\n",
       "    <tr>\n",
       "      <th>7</th>\n",
       "      <td>55.0</td>\n",
       "      <td>Female</td>\n",
       "      <td>37.0</td>\n",
       "      <td>8.0</td>\n",
       "      <td>4.0</td>\n",
       "      <td>15.0</td>\n",
       "      <td>Premium</td>\n",
       "      <td>Annual</td>\n",
       "      <td>445.0</td>\n",
       "      <td>30.0</td>\n",
       "      <td>1</td>\n",
       "    </tr>\n",
       "    <tr>\n",
       "      <th>...</th>\n",
       "      <td>...</td>\n",
       "      <td>...</td>\n",
       "      <td>...</td>\n",
       "      <td>...</td>\n",
       "      <td>...</td>\n",
       "      <td>...</td>\n",
       "      <td>...</td>\n",
       "      <td>...</td>\n",
       "      <td>...</td>\n",
       "      <td>...</td>\n",
       "      <td>...</td>\n",
       "    </tr>\n",
       "    <tr>\n",
       "      <th>505197</th>\n",
       "      <td>48.0</td>\n",
       "      <td>Female</td>\n",
       "      <td>36.0</td>\n",
       "      <td>22.0</td>\n",
       "      <td>4.0</td>\n",
       "      <td>22.0</td>\n",
       "      <td>Premium</td>\n",
       "      <td>Annual</td>\n",
       "      <td>342.0</td>\n",
       "      <td>9.0</td>\n",
       "      <td>1</td>\n",
       "    </tr>\n",
       "    <tr>\n",
       "      <th>505198</th>\n",
       "      <td>26.0</td>\n",
       "      <td>Female</td>\n",
       "      <td>54.0</td>\n",
       "      <td>24.0</td>\n",
       "      <td>2.0</td>\n",
       "      <td>21.0</td>\n",
       "      <td>Basic</td>\n",
       "      <td>Annual</td>\n",
       "      <td>165.0</td>\n",
       "      <td>23.0</td>\n",
       "      <td>1</td>\n",
       "    </tr>\n",
       "    <tr>\n",
       "      <th>505202</th>\n",
       "      <td>45.0</td>\n",
       "      <td>Female</td>\n",
       "      <td>33.0</td>\n",
       "      <td>12.0</td>\n",
       "      <td>6.0</td>\n",
       "      <td>21.0</td>\n",
       "      <td>Basic</td>\n",
       "      <td>Quarterly</td>\n",
       "      <td>947.0</td>\n",
       "      <td>14.0</td>\n",
       "      <td>1</td>\n",
       "    </tr>\n",
       "    <tr>\n",
       "      <th>505205</th>\n",
       "      <td>50.0</td>\n",
       "      <td>Female</td>\n",
       "      <td>18.0</td>\n",
       "      <td>19.0</td>\n",
       "      <td>7.0</td>\n",
       "      <td>22.0</td>\n",
       "      <td>Standard</td>\n",
       "      <td>Monthly</td>\n",
       "      <td>540.0</td>\n",
       "      <td>13.0</td>\n",
       "      <td>1</td>\n",
       "    </tr>\n",
       "    <tr>\n",
       "      <th>505206</th>\n",
       "      <td>52.0</td>\n",
       "      <td>Female</td>\n",
       "      <td>45.0</td>\n",
       "      <td>15.0</td>\n",
       "      <td>9.0</td>\n",
       "      <td>25.0</td>\n",
       "      <td>Standard</td>\n",
       "      <td>Monthly</td>\n",
       "      <td>696.0</td>\n",
       "      <td>22.0</td>\n",
       "      <td>1</td>\n",
       "    </tr>\n",
       "  </tbody>\n",
       "</table>\n",
       "<p>224933 rows × 11 columns</p>\n",
       "</div>"
      ],
      "text/plain": [
       "         Age  Gender  Tenure  Usage Frequency  Support Calls  Payment Delay  \\\n",
       "0       30.0  Female    39.0             14.0            5.0           18.0   \n",
       "1       65.0  Female    49.0              1.0           10.0            8.0   \n",
       "2       55.0  Female    14.0              4.0            6.0           18.0   \n",
       "6       58.0  Female    49.0             12.0            3.0           16.0   \n",
       "7       55.0  Female    37.0              8.0            4.0           15.0   \n",
       "...      ...     ...     ...              ...            ...            ...   \n",
       "505197  48.0  Female    36.0             22.0            4.0           22.0   \n",
       "505198  26.0  Female    54.0             24.0            2.0           21.0   \n",
       "505202  45.0  Female    33.0             12.0            6.0           21.0   \n",
       "505205  50.0  Female    18.0             19.0            7.0           22.0   \n",
       "505206  52.0  Female    45.0             15.0            9.0           25.0   \n",
       "\n",
       "       Subscription Type Contract Length  Total Spend  Last Interaction  Churn  \n",
       "0               Standard          Annual        932.0              17.0      1  \n",
       "1                  Basic         Monthly        557.0               6.0      1  \n",
       "2                  Basic       Quarterly        185.0               3.0      1  \n",
       "6               Standard       Quarterly        821.0              24.0      1  \n",
       "7                Premium          Annual        445.0              30.0      1  \n",
       "...                  ...             ...          ...               ...    ...  \n",
       "505197           Premium          Annual        342.0               9.0      1  \n",
       "505198             Basic          Annual        165.0              23.0      1  \n",
       "505202             Basic       Quarterly        947.0              14.0      1  \n",
       "505205          Standard         Monthly        540.0              13.0      1  \n",
       "505206          Standard         Monthly        696.0              22.0      1  \n",
       "\n",
       "[224933 rows x 11 columns]"
      ]
     },
     "execution_count": 11,
     "metadata": {},
     "output_type": "execute_result"
    }
   ],
   "source": [
    "mask_female = df[\"Gender\"] == \"Female\"\n",
    "print(df[mask_female].shape)\n",
    "df[mask_female]"
   ]
  },
  {
   "cell_type": "code",
   "execution_count": 12,
   "id": "bd05341d",
   "metadata": {},
   "outputs": [
    {
     "data": {
      "text/plain": [
       "135235349.92"
      ]
     },
     "execution_count": 12,
     "metadata": {},
     "output_type": "execute_result"
    }
   ],
   "source": [
    "df[mask_female][\"Total Spend\"].sum()"
   ]
  },
  {
   "cell_type": "markdown",
   "id": "453941ee",
   "metadata": {},
   "source": [
    "Females transaction is **$135,235,349** anually."
   ]
  },
  {
   "cell_type": "code",
   "execution_count": 13,
   "id": "1008fd59",
   "metadata": {},
   "outputs": [
    {
     "name": "stdout",
     "output_type": "stream",
     "text": [
      "(280273, 11)\n"
     ]
    },
    {
     "data": {
      "text/html": [
       "<div>\n",
       "<style scoped>\n",
       "    .dataframe tbody tr th:only-of-type {\n",
       "        vertical-align: middle;\n",
       "    }\n",
       "\n",
       "    .dataframe tbody tr th {\n",
       "        vertical-align: top;\n",
       "    }\n",
       "\n",
       "    .dataframe thead th {\n",
       "        text-align: right;\n",
       "    }\n",
       "</style>\n",
       "<table border=\"1\" class=\"dataframe\">\n",
       "  <thead>\n",
       "    <tr style=\"text-align: right;\">\n",
       "      <th></th>\n",
       "      <th>Age</th>\n",
       "      <th>Gender</th>\n",
       "      <th>Tenure</th>\n",
       "      <th>Usage Frequency</th>\n",
       "      <th>Support Calls</th>\n",
       "      <th>Payment Delay</th>\n",
       "      <th>Subscription Type</th>\n",
       "      <th>Contract Length</th>\n",
       "      <th>Total Spend</th>\n",
       "      <th>Last Interaction</th>\n",
       "      <th>Churn</th>\n",
       "    </tr>\n",
       "  </thead>\n",
       "  <tbody>\n",
       "    <tr>\n",
       "      <th>3</th>\n",
       "      <td>58.0</td>\n",
       "      <td>Male</td>\n",
       "      <td>38.0</td>\n",
       "      <td>21.0</td>\n",
       "      <td>7.0</td>\n",
       "      <td>7.0</td>\n",
       "      <td>Standard</td>\n",
       "      <td>Monthly</td>\n",
       "      <td>396.0</td>\n",
       "      <td>29.0</td>\n",
       "      <td>1</td>\n",
       "    </tr>\n",
       "    <tr>\n",
       "      <th>4</th>\n",
       "      <td>23.0</td>\n",
       "      <td>Male</td>\n",
       "      <td>32.0</td>\n",
       "      <td>20.0</td>\n",
       "      <td>5.0</td>\n",
       "      <td>8.0</td>\n",
       "      <td>Basic</td>\n",
       "      <td>Monthly</td>\n",
       "      <td>617.0</td>\n",
       "      <td>20.0</td>\n",
       "      <td>1</td>\n",
       "    </tr>\n",
       "    <tr>\n",
       "      <th>5</th>\n",
       "      <td>51.0</td>\n",
       "      <td>Male</td>\n",
       "      <td>33.0</td>\n",
       "      <td>25.0</td>\n",
       "      <td>9.0</td>\n",
       "      <td>26.0</td>\n",
       "      <td>Premium</td>\n",
       "      <td>Annual</td>\n",
       "      <td>129.0</td>\n",
       "      <td>8.0</td>\n",
       "      <td>1</td>\n",
       "    </tr>\n",
       "    <tr>\n",
       "      <th>8</th>\n",
       "      <td>39.0</td>\n",
       "      <td>Male</td>\n",
       "      <td>12.0</td>\n",
       "      <td>5.0</td>\n",
       "      <td>7.0</td>\n",
       "      <td>4.0</td>\n",
       "      <td>Standard</td>\n",
       "      <td>Quarterly</td>\n",
       "      <td>969.0</td>\n",
       "      <td>13.0</td>\n",
       "      <td>1</td>\n",
       "    </tr>\n",
       "    <tr>\n",
       "      <th>10</th>\n",
       "      <td>29.0</td>\n",
       "      <td>Male</td>\n",
       "      <td>18.0</td>\n",
       "      <td>9.0</td>\n",
       "      <td>0.0</td>\n",
       "      <td>30.0</td>\n",
       "      <td>Premium</td>\n",
       "      <td>Quarterly</td>\n",
       "      <td>930.0</td>\n",
       "      <td>18.0</td>\n",
       "      <td>1</td>\n",
       "    </tr>\n",
       "    <tr>\n",
       "      <th>...</th>\n",
       "      <td>...</td>\n",
       "      <td>...</td>\n",
       "      <td>...</td>\n",
       "      <td>...</td>\n",
       "      <td>...</td>\n",
       "      <td>...</td>\n",
       "      <td>...</td>\n",
       "      <td>...</td>\n",
       "      <td>...</td>\n",
       "      <td>...</td>\n",
       "      <td>...</td>\n",
       "    </tr>\n",
       "    <tr>\n",
       "      <th>505199</th>\n",
       "      <td>64.0</td>\n",
       "      <td>Male</td>\n",
       "      <td>30.0</td>\n",
       "      <td>27.0</td>\n",
       "      <td>9.0</td>\n",
       "      <td>28.0</td>\n",
       "      <td>Premium</td>\n",
       "      <td>Annual</td>\n",
       "      <td>884.0</td>\n",
       "      <td>21.0</td>\n",
       "      <td>1</td>\n",
       "    </tr>\n",
       "    <tr>\n",
       "      <th>505200</th>\n",
       "      <td>51.0</td>\n",
       "      <td>Male</td>\n",
       "      <td>47.0</td>\n",
       "      <td>17.0</td>\n",
       "      <td>10.0</td>\n",
       "      <td>26.0</td>\n",
       "      <td>Basic</td>\n",
       "      <td>Annual</td>\n",
       "      <td>544.0</td>\n",
       "      <td>24.0</td>\n",
       "      <td>1</td>\n",
       "    </tr>\n",
       "    <tr>\n",
       "      <th>505201</th>\n",
       "      <td>45.0</td>\n",
       "      <td>Male</td>\n",
       "      <td>3.0</td>\n",
       "      <td>1.0</td>\n",
       "      <td>5.0</td>\n",
       "      <td>11.0</td>\n",
       "      <td>Standard</td>\n",
       "      <td>Annual</td>\n",
       "      <td>218.0</td>\n",
       "      <td>15.0</td>\n",
       "      <td>1</td>\n",
       "    </tr>\n",
       "    <tr>\n",
       "      <th>505203</th>\n",
       "      <td>37.0</td>\n",
       "      <td>Male</td>\n",
       "      <td>6.0</td>\n",
       "      <td>1.0</td>\n",
       "      <td>5.0</td>\n",
       "      <td>22.0</td>\n",
       "      <td>Standard</td>\n",
       "      <td>Annual</td>\n",
       "      <td>923.0</td>\n",
       "      <td>9.0</td>\n",
       "      <td>1</td>\n",
       "    </tr>\n",
       "    <tr>\n",
       "      <th>505204</th>\n",
       "      <td>25.0</td>\n",
       "      <td>Male</td>\n",
       "      <td>39.0</td>\n",
       "      <td>14.0</td>\n",
       "      <td>8.0</td>\n",
       "      <td>30.0</td>\n",
       "      <td>Premium</td>\n",
       "      <td>Monthly</td>\n",
       "      <td>327.0</td>\n",
       "      <td>20.0</td>\n",
       "      <td>1</td>\n",
       "    </tr>\n",
       "  </tbody>\n",
       "</table>\n",
       "<p>280273 rows × 11 columns</p>\n",
       "</div>"
      ],
      "text/plain": [
       "         Age Gender  Tenure  Usage Frequency  Support Calls  Payment Delay  \\\n",
       "3       58.0   Male    38.0             21.0            7.0            7.0   \n",
       "4       23.0   Male    32.0             20.0            5.0            8.0   \n",
       "5       51.0   Male    33.0             25.0            9.0           26.0   \n",
       "8       39.0   Male    12.0              5.0            7.0            4.0   \n",
       "10      29.0   Male    18.0              9.0            0.0           30.0   \n",
       "...      ...    ...     ...              ...            ...            ...   \n",
       "505199  64.0   Male    30.0             27.0            9.0           28.0   \n",
       "505200  51.0   Male    47.0             17.0           10.0           26.0   \n",
       "505201  45.0   Male     3.0              1.0            5.0           11.0   \n",
       "505203  37.0   Male     6.0              1.0            5.0           22.0   \n",
       "505204  25.0   Male    39.0             14.0            8.0           30.0   \n",
       "\n",
       "       Subscription Type Contract Length  Total Spend  Last Interaction  Churn  \n",
       "3               Standard         Monthly        396.0              29.0      1  \n",
       "4                  Basic         Monthly        617.0              20.0      1  \n",
       "5                Premium          Annual        129.0               8.0      1  \n",
       "8               Standard       Quarterly        969.0              13.0      1  \n",
       "10               Premium       Quarterly        930.0              18.0      1  \n",
       "...                  ...             ...          ...               ...    ...  \n",
       "505199           Premium          Annual        884.0              21.0      1  \n",
       "505200             Basic          Annual        544.0              24.0      1  \n",
       "505201          Standard          Annual        218.0              15.0      1  \n",
       "505203          Standard          Annual        923.0               9.0      1  \n",
       "505204           Premium         Monthly        327.0              20.0      1  \n",
       "\n",
       "[280273 rows x 11 columns]"
      ]
     },
     "execution_count": 13,
     "metadata": {},
     "output_type": "execute_result"
    }
   ],
   "source": [
    "mask_male = df[\"Gender\"] == \"Male\"\n",
    "print(df[mask_male].shape)\n",
    "df[mask_male]"
   ]
  },
  {
   "cell_type": "code",
   "execution_count": 14,
   "id": "c0fd0f0b",
   "metadata": {
    "scrolled": false
   },
   "outputs": [
    {
     "data": {
      "text/plain": [
       "178029131.79999998"
      ]
     },
     "execution_count": 14,
     "metadata": {},
     "output_type": "execute_result"
    }
   ],
   "source": [
    "df[mask_male][\"Total Spend\"].sum()"
   ]
  },
  {
   "cell_type": "code",
   "execution_count": 15,
   "id": "f20fb59a",
   "metadata": {},
   "outputs": [
    {
     "data": {
      "text/plain": [
       "array([30., 65., 55., 58., 23., 51., 39., 64., 29., 52., 22., 48., 24.,\n",
       "       49., 19., 47., 42., 57., 27., 59., 21., 60., 35., 18., 56., 20.,\n",
       "       63., 25., 28., 32., 38., 37., 31., 53., 41., 33., 26., 36., 44.,\n",
       "       34., 61., 40., 45., 46., 54., 43., 50., 62., nan])"
      ]
     },
     "execution_count": 15,
     "metadata": {},
     "output_type": "execute_result"
    }
   ],
   "source": [
    "df['Age'].unique()"
   ]
  },
  {
   "cell_type": "code",
   "execution_count": 16,
   "id": "87fd5055",
   "metadata": {},
   "outputs": [
    {
     "data": {
      "image/png": "[encoded data removed]",
      "text/plain": [
       "<Figure size 640x480 with 1 Axes>"
      ]
     },
     "metadata": {},
     "output_type": "display_data"
    }
   ],
   "source": [
    "plt.hist(df['Age'], bins=5)\n",
    "plt.xlabel('Age of Subscribers')\n",
    "plt.ylabel('Frequency')\n",
    "plt.title('Age count');"
   ]
  },
  {
   "cell_type": "code",
   "execution_count": 17,
   "id": "8850d900",
   "metadata": {},
   "outputs": [
    {
     "data": {
      "image/png": "[encoded data removed]",
      "text/plain": [
       "<Figure size 640x480 with 1 Axes>"
      ]
     },
     "metadata": {},
     "output_type": "display_data"
    }
   ],
   "source": [
    "plt.hist(df[mask_male]['Age'], bins=5)\n",
    "plt.xlabel('Age of Subscribers[male]')\n",
    "plt.ylabel('Frequency')\n",
    "plt.title('Age count of male');"
   ]
  },
  {
   "cell_type": "code",
   "execution_count": 18,
   "id": "d03a99a6",
   "metadata": {},
   "outputs": [
    {
     "data": {
      "image/png": "[encoded data removed]",
      "text/plain": [
       "<Figure size 640x480 with 1 Axes>"
      ]
     },
     "metadata": {},
     "output_type": "display_data"
    }
   ],
   "source": [
    "plt.hist(df[mask_female]['Age'], bins=5);"
   ]
  },
  {
   "cell_type": "code",
   "execution_count": 19,
   "id": "fa1f4cc0",
   "metadata": {},
   "outputs": [
    {
     "data": {
      "text/html": [
       "<div>\n",
       "<style scoped>\n",
       "    .dataframe tbody tr th:only-of-type {\n",
       "        vertical-align: middle;\n",
       "    }\n",
       "\n",
       "    .dataframe tbody tr th {\n",
       "        vertical-align: top;\n",
       "    }\n",
       "\n",
       "    .dataframe thead th {\n",
       "        text-align: right;\n",
       "    }\n",
       "</style>\n",
       "<table border=\"1\" class=\"dataframe\">\n",
       "  <thead>\n",
       "    <tr style=\"text-align: right;\">\n",
       "      <th></th>\n",
       "      <th>Age</th>\n",
       "      <th>Gender</th>\n",
       "      <th>Tenure</th>\n",
       "      <th>Usage Frequency</th>\n",
       "      <th>Support Calls</th>\n",
       "      <th>Payment Delay</th>\n",
       "      <th>Subscription Type</th>\n",
       "      <th>Contract Length</th>\n",
       "      <th>Total Spend</th>\n",
       "      <th>Last Interaction</th>\n",
       "      <th>Churn</th>\n",
       "    </tr>\n",
       "  </thead>\n",
       "  <tbody>\n",
       "    <tr>\n",
       "      <th>0</th>\n",
       "      <td>30.0</td>\n",
       "      <td>Female</td>\n",
       "      <td>39.0</td>\n",
       "      <td>14.0</td>\n",
       "      <td>5.0</td>\n",
       "      <td>18.0</td>\n",
       "      <td>Standard</td>\n",
       "      <td>Annual</td>\n",
       "      <td>932.0</td>\n",
       "      <td>17.0</td>\n",
       "      <td>1</td>\n",
       "    </tr>\n",
       "    <tr>\n",
       "      <th>1</th>\n",
       "      <td>65.0</td>\n",
       "      <td>Female</td>\n",
       "      <td>49.0</td>\n",
       "      <td>1.0</td>\n",
       "      <td>10.0</td>\n",
       "      <td>8.0</td>\n",
       "      <td>Basic</td>\n",
       "      <td>Monthly</td>\n",
       "      <td>557.0</td>\n",
       "      <td>6.0</td>\n",
       "      <td>1</td>\n",
       "    </tr>\n",
       "    <tr>\n",
       "      <th>2</th>\n",
       "      <td>55.0</td>\n",
       "      <td>Female</td>\n",
       "      <td>14.0</td>\n",
       "      <td>4.0</td>\n",
       "      <td>6.0</td>\n",
       "      <td>18.0</td>\n",
       "      <td>Basic</td>\n",
       "      <td>Quarterly</td>\n",
       "      <td>185.0</td>\n",
       "      <td>3.0</td>\n",
       "      <td>1</td>\n",
       "    </tr>\n",
       "    <tr>\n",
       "      <th>3</th>\n",
       "      <td>58.0</td>\n",
       "      <td>Male</td>\n",
       "      <td>38.0</td>\n",
       "      <td>21.0</td>\n",
       "      <td>7.0</td>\n",
       "      <td>7.0</td>\n",
       "      <td>Standard</td>\n",
       "      <td>Monthly</td>\n",
       "      <td>396.0</td>\n",
       "      <td>29.0</td>\n",
       "      <td>1</td>\n",
       "    </tr>\n",
       "    <tr>\n",
       "      <th>4</th>\n",
       "      <td>23.0</td>\n",
       "      <td>Male</td>\n",
       "      <td>32.0</td>\n",
       "      <td>20.0</td>\n",
       "      <td>5.0</td>\n",
       "      <td>8.0</td>\n",
       "      <td>Basic</td>\n",
       "      <td>Monthly</td>\n",
       "      <td>617.0</td>\n",
       "      <td>20.0</td>\n",
       "      <td>1</td>\n",
       "    </tr>\n",
       "    <tr>\n",
       "      <th>...</th>\n",
       "      <td>...</td>\n",
       "      <td>...</td>\n",
       "      <td>...</td>\n",
       "      <td>...</td>\n",
       "      <td>...</td>\n",
       "      <td>...</td>\n",
       "      <td>...</td>\n",
       "      <td>...</td>\n",
       "      <td>...</td>\n",
       "      <td>...</td>\n",
       "      <td>...</td>\n",
       "    </tr>\n",
       "    <tr>\n",
       "      <th>505202</th>\n",
       "      <td>45.0</td>\n",
       "      <td>Female</td>\n",
       "      <td>33.0</td>\n",
       "      <td>12.0</td>\n",
       "      <td>6.0</td>\n",
       "      <td>21.0</td>\n",
       "      <td>Basic</td>\n",
       "      <td>Quarterly</td>\n",
       "      <td>947.0</td>\n",
       "      <td>14.0</td>\n",
       "      <td>1</td>\n",
       "    </tr>\n",
       "    <tr>\n",
       "      <th>505203</th>\n",
       "      <td>37.0</td>\n",
       "      <td>Male</td>\n",
       "      <td>6.0</td>\n",
       "      <td>1.0</td>\n",
       "      <td>5.0</td>\n",
       "      <td>22.0</td>\n",
       "      <td>Standard</td>\n",
       "      <td>Annual</td>\n",
       "      <td>923.0</td>\n",
       "      <td>9.0</td>\n",
       "      <td>1</td>\n",
       "    </tr>\n",
       "    <tr>\n",
       "      <th>505204</th>\n",
       "      <td>25.0</td>\n",
       "      <td>Male</td>\n",
       "      <td>39.0</td>\n",
       "      <td>14.0</td>\n",
       "      <td>8.0</td>\n",
       "      <td>30.0</td>\n",
       "      <td>Premium</td>\n",
       "      <td>Monthly</td>\n",
       "      <td>327.0</td>\n",
       "      <td>20.0</td>\n",
       "      <td>1</td>\n",
       "    </tr>\n",
       "    <tr>\n",
       "      <th>505205</th>\n",
       "      <td>50.0</td>\n",
       "      <td>Female</td>\n",
       "      <td>18.0</td>\n",
       "      <td>19.0</td>\n",
       "      <td>7.0</td>\n",
       "      <td>22.0</td>\n",
       "      <td>Standard</td>\n",
       "      <td>Monthly</td>\n",
       "      <td>540.0</td>\n",
       "      <td>13.0</td>\n",
       "      <td>1</td>\n",
       "    </tr>\n",
       "    <tr>\n",
       "      <th>505206</th>\n",
       "      <td>52.0</td>\n",
       "      <td>Female</td>\n",
       "      <td>45.0</td>\n",
       "      <td>15.0</td>\n",
       "      <td>9.0</td>\n",
       "      <td>25.0</td>\n",
       "      <td>Standard</td>\n",
       "      <td>Monthly</td>\n",
       "      <td>696.0</td>\n",
       "      <td>22.0</td>\n",
       "      <td>1</td>\n",
       "    </tr>\n",
       "  </tbody>\n",
       "</table>\n",
       "<p>505207 rows × 11 columns</p>\n",
       "</div>"
      ],
      "text/plain": [
       "         Age  Gender  Tenure  Usage Frequency  Support Calls  Payment Delay  \\\n",
       "0       30.0  Female    39.0             14.0            5.0           18.0   \n",
       "1       65.0  Female    49.0              1.0           10.0            8.0   \n",
       "2       55.0  Female    14.0              4.0            6.0           18.0   \n",
       "3       58.0    Male    38.0             21.0            7.0            7.0   \n",
       "4       23.0    Male    32.0             20.0            5.0            8.0   \n",
       "...      ...     ...     ...              ...            ...            ...   \n",
       "505202  45.0  Female    33.0             12.0            6.0           21.0   \n",
       "505203  37.0    Male     6.0              1.0            5.0           22.0   \n",
       "505204  25.0    Male    39.0             14.0            8.0           30.0   \n",
       "505205  50.0  Female    18.0             19.0            7.0           22.0   \n",
       "505206  52.0  Female    45.0             15.0            9.0           25.0   \n",
       "\n",
       "       Subscription Type Contract Length  Total Spend  Last Interaction  Churn  \n",
       "0               Standard          Annual        932.0              17.0      1  \n",
       "1                  Basic         Monthly        557.0               6.0      1  \n",
       "2                  Basic       Quarterly        185.0               3.0      1  \n",
       "3               Standard         Monthly        396.0              29.0      1  \n",
       "4                  Basic         Monthly        617.0              20.0      1  \n",
       "...                  ...             ...          ...               ...    ...  \n",
       "505202             Basic       Quarterly        947.0              14.0      1  \n",
       "505203          Standard          Annual        923.0               9.0      1  \n",
       "505204           Premium         Monthly        327.0              20.0      1  \n",
       "505205          Standard         Monthly        540.0              13.0      1  \n",
       "505206          Standard         Monthly        696.0              22.0      1  \n",
       "\n",
       "[505207 rows x 11 columns]"
      ]
     },
     "execution_count": 19,
     "metadata": {},
     "output_type": "execute_result"
    }
   ],
   "source": [
    "df['Churn'] = (df['Churn']>0).astype(int)\n",
    "df"
   ]
  },
  {
   "cell_type": "code",
   "execution_count": 20,
   "id": "5bdf5eb2",
   "metadata": {},
   "outputs": [
    {
     "data": {
      "text/plain": [
       "1    0.555202\n",
       "0    0.444798\n",
       "Name: Churn, dtype: float64"
      ]
     },
     "execution_count": 20,
     "metadata": {},
     "output_type": "execute_result"
    }
   ],
   "source": [
    "df['Churn'].value_counts(normalize=True)"
   ]
  },
  {
   "cell_type": "code",
   "execution_count": 21,
   "id": "c302b0c1",
   "metadata": {},
   "outputs": [
    {
     "data": {
      "image/png": "[encoded data removed]",
      "text/plain": [
       "<Figure size 640x480 with 1 Axes>"
      ]
     },
     "metadata": {},
     "output_type": "display_data"
    }
   ],
   "source": [
    "df['Churn'].value_counts(normalize=True).plot(kind=\"bar\");"
   ]
  },
  {
   "cell_type": "markdown",
   "id": "79e557c5",
   "metadata": {},
   "source": [
    "### Splitting the Data."
   ]
  },
  {
   "cell_type": "code",
   "execution_count": 22,
   "id": "e1d223fc",
   "metadata": {},
   "outputs": [
    {
     "data": {
      "text/plain": [
       "0         1\n",
       "1         1\n",
       "2         1\n",
       "3         1\n",
       "4         1\n",
       "         ..\n",
       "505202    1\n",
       "505203    1\n",
       "505204    1\n",
       "505205    1\n",
       "505206    1\n",
       "Name: Churn, Length: 505207, dtype: int32"
      ]
     },
     "execution_count": 22,
     "metadata": {},
     "output_type": "execute_result"
    }
   ],
   "source": [
    "target = 'Churn'\n",
    "\n",
    "y = df[target]\n",
    "X= df.drop(columns=[target])\n",
    "\n",
    "y"
   ]
  },
  {
   "cell_type": "code",
   "execution_count": 23,
   "id": "4945fd92",
   "metadata": {},
   "outputs": [
    {
     "data": {
      "text/html": [
       "<div>\n",
       "<style scoped>\n",
       "    .dataframe tbody tr th:only-of-type {\n",
       "        vertical-align: middle;\n",
       "    }\n",
       "\n",
       "    .dataframe tbody tr th {\n",
       "        vertical-align: top;\n",
       "    }\n",
       "\n",
       "    .dataframe thead th {\n",
       "        text-align: right;\n",
       "    }\n",
       "</style>\n",
       "<table border=\"1\" class=\"dataframe\">\n",
       "  <thead>\n",
       "    <tr style=\"text-align: right;\">\n",
       "      <th></th>\n",
       "      <th>Age</th>\n",
       "      <th>Gender</th>\n",
       "      <th>Tenure</th>\n",
       "      <th>Usage Frequency</th>\n",
       "      <th>Support Calls</th>\n",
       "      <th>Payment Delay</th>\n",
       "      <th>Subscription Type</th>\n",
       "      <th>Contract Length</th>\n",
       "      <th>Total Spend</th>\n",
       "      <th>Last Interaction</th>\n",
       "    </tr>\n",
       "  </thead>\n",
       "  <tbody>\n",
       "    <tr>\n",
       "      <th>0</th>\n",
       "      <td>30.0</td>\n",
       "      <td>Female</td>\n",
       "      <td>39.0</td>\n",
       "      <td>14.0</td>\n",
       "      <td>5.0</td>\n",
       "      <td>18.0</td>\n",
       "      <td>Standard</td>\n",
       "      <td>Annual</td>\n",
       "      <td>932.0</td>\n",
       "      <td>17.0</td>\n",
       "    </tr>\n",
       "    <tr>\n",
       "      <th>1</th>\n",
       "      <td>65.0</td>\n",
       "      <td>Female</td>\n",
       "      <td>49.0</td>\n",
       "      <td>1.0</td>\n",
       "      <td>10.0</td>\n",
       "      <td>8.0</td>\n",
       "      <td>Basic</td>\n",
       "      <td>Monthly</td>\n",
       "      <td>557.0</td>\n",
       "      <td>6.0</td>\n",
       "    </tr>\n",
       "    <tr>\n",
       "      <th>2</th>\n",
       "      <td>55.0</td>\n",
       "      <td>Female</td>\n",
       "      <td>14.0</td>\n",
       "      <td>4.0</td>\n",
       "      <td>6.0</td>\n",
       "      <td>18.0</td>\n",
       "      <td>Basic</td>\n",
       "      <td>Quarterly</td>\n",
       "      <td>185.0</td>\n",
       "      <td>3.0</td>\n",
       "    </tr>\n",
       "    <tr>\n",
       "      <th>3</th>\n",
       "      <td>58.0</td>\n",
       "      <td>Male</td>\n",
       "      <td>38.0</td>\n",
       "      <td>21.0</td>\n",
       "      <td>7.0</td>\n",
       "      <td>7.0</td>\n",
       "      <td>Standard</td>\n",
       "      <td>Monthly</td>\n",
       "      <td>396.0</td>\n",
       "      <td>29.0</td>\n",
       "    </tr>\n",
       "    <tr>\n",
       "      <th>4</th>\n",
       "      <td>23.0</td>\n",
       "      <td>Male</td>\n",
       "      <td>32.0</td>\n",
       "      <td>20.0</td>\n",
       "      <td>5.0</td>\n",
       "      <td>8.0</td>\n",
       "      <td>Basic</td>\n",
       "      <td>Monthly</td>\n",
       "      <td>617.0</td>\n",
       "      <td>20.0</td>\n",
       "    </tr>\n",
       "    <tr>\n",
       "      <th>...</th>\n",
       "      <td>...</td>\n",
       "      <td>...</td>\n",
       "      <td>...</td>\n",
       "      <td>...</td>\n",
       "      <td>...</td>\n",
       "      <td>...</td>\n",
       "      <td>...</td>\n",
       "      <td>...</td>\n",
       "      <td>...</td>\n",
       "      <td>...</td>\n",
       "    </tr>\n",
       "    <tr>\n",
       "      <th>505202</th>\n",
       "      <td>45.0</td>\n",
       "      <td>Female</td>\n",
       "      <td>33.0</td>\n",
       "      <td>12.0</td>\n",
       "      <td>6.0</td>\n",
       "      <td>21.0</td>\n",
       "      <td>Basic</td>\n",
       "      <td>Quarterly</td>\n",
       "      <td>947.0</td>\n",
       "      <td>14.0</td>\n",
       "    </tr>\n",
       "    <tr>\n",
       "      <th>505203</th>\n",
       "      <td>37.0</td>\n",
       "      <td>Male</td>\n",
       "      <td>6.0</td>\n",
       "      <td>1.0</td>\n",
       "      <td>5.0</td>\n",
       "      <td>22.0</td>\n",
       "      <td>Standard</td>\n",
       "      <td>Annual</td>\n",
       "      <td>923.0</td>\n",
       "      <td>9.0</td>\n",
       "    </tr>\n",
       "    <tr>\n",
       "      <th>505204</th>\n",
       "      <td>25.0</td>\n",
       "      <td>Male</td>\n",
       "      <td>39.0</td>\n",
       "      <td>14.0</td>\n",
       "      <td>8.0</td>\n",
       "      <td>30.0</td>\n",
       "      <td>Premium</td>\n",
       "      <td>Monthly</td>\n",
       "      <td>327.0</td>\n",
       "      <td>20.0</td>\n",
       "    </tr>\n",
       "    <tr>\n",
       "      <th>505205</th>\n",
       "      <td>50.0</td>\n",
       "      <td>Female</td>\n",
       "      <td>18.0</td>\n",
       "      <td>19.0</td>\n",
       "      <td>7.0</td>\n",
       "      <td>22.0</td>\n",
       "      <td>Standard</td>\n",
       "      <td>Monthly</td>\n",
       "      <td>540.0</td>\n",
       "      <td>13.0</td>\n",
       "    </tr>\n",
       "    <tr>\n",
       "      <th>505206</th>\n",
       "      <td>52.0</td>\n",
       "      <td>Female</td>\n",
       "      <td>45.0</td>\n",
       "      <td>15.0</td>\n",
       "      <td>9.0</td>\n",
       "      <td>25.0</td>\n",
       "      <td>Standard</td>\n",
       "      <td>Monthly</td>\n",
       "      <td>696.0</td>\n",
       "      <td>22.0</td>\n",
       "    </tr>\n",
       "  </tbody>\n",
       "</table>\n",
       "<p>505207 rows × 10 columns</p>\n",
       "</div>"
      ],
      "text/plain": [
       "         Age  Gender  Tenure  Usage Frequency  Support Calls  Payment Delay  \\\n",
       "0       30.0  Female    39.0             14.0            5.0           18.0   \n",
       "1       65.0  Female    49.0              1.0           10.0            8.0   \n",
       "2       55.0  Female    14.0              4.0            6.0           18.0   \n",
       "3       58.0    Male    38.0             21.0            7.0            7.0   \n",
       "4       23.0    Male    32.0             20.0            5.0            8.0   \n",
       "...      ...     ...     ...              ...            ...            ...   \n",
       "505202  45.0  Female    33.0             12.0            6.0           21.0   \n",
       "505203  37.0    Male     6.0              1.0            5.0           22.0   \n",
       "505204  25.0    Male    39.0             14.0            8.0           30.0   \n",
       "505205  50.0  Female    18.0             19.0            7.0           22.0   \n",
       "505206  52.0  Female    45.0             15.0            9.0           25.0   \n",
       "\n",
       "       Subscription Type Contract Length  Total Spend  Last Interaction  \n",
       "0               Standard          Annual        932.0              17.0  \n",
       "1                  Basic         Monthly        557.0               6.0  \n",
       "2                  Basic       Quarterly        185.0               3.0  \n",
       "3               Standard         Monthly        396.0              29.0  \n",
       "4                  Basic         Monthly        617.0              20.0  \n",
       "...                  ...             ...          ...               ...  \n",
       "505202             Basic       Quarterly        947.0              14.0  \n",
       "505203          Standard          Annual        923.0               9.0  \n",
       "505204           Premium         Monthly        327.0              20.0  \n",
       "505205          Standard         Monthly        540.0              13.0  \n",
       "505206          Standard         Monthly        696.0              22.0  \n",
       "\n",
       "[505207 rows x 10 columns]"
      ]
     },
     "execution_count": 23,
     "metadata": {},
     "output_type": "execute_result"
    }
   ],
   "source": [
    "X"
   ]
  },
  {
   "cell_type": "code",
   "execution_count": 24,
   "id": "ff495c19",
   "metadata": {},
   "outputs": [
    {
     "name": "stdout",
     "output_type": "stream",
     "text": [
      "X_train: (404165, 10)\n",
      "y_train: (404165,)\n",
      "X_test: (101042, 10)\n",
      "y_test: (101042,)\n"
     ]
    }
   ],
   "source": [
    "X_train, X_test, y_train, y_test = train_test_split(\n",
    "    X, y, test_size=0.2, random_state=20\n",
    ")\n",
    "\n",
    "print('X_train:', X_train.shape)\n",
    "print('y_train:', y_train.shape)\n",
    "print('X_test:', X_test.shape)\n",
    "print('y_test:', y_test.shape)"
   ]
  },
  {
   "cell_type": "markdown",
   "id": "15df5129",
   "metadata": {},
   "source": [
    "### Setting Baseline"
   ]
  },
  {
   "cell_type": "code",
   "execution_count": 25,
   "id": "5c81901a",
   "metadata": {},
   "outputs": [
    {
     "data": {
      "text/plain": [
       "0.5552021250695259"
      ]
     },
     "execution_count": 25,
     "metadata": {},
     "output_type": "execute_result"
    }
   ],
   "source": [
    "acc_baseline = y.value_counts(normalize=True).max()\n",
    "acc_baseline"
   ]
  },
  {
   "cell_type": "markdown",
   "id": "24d1726a",
   "metadata": {},
   "source": [
    "### building and Training the model."
   ]
  },
  {
   "cell_type": "code",
   "execution_count": 26,
   "id": "ea57b7ab",
   "metadata": {},
   "outputs": [],
   "source": [
    "model = make_pipeline(\n",
    "    OneHotEncoder(use_cat_names=True),\n",
    "    SimpleImputer(),\n",
    "    LogisticRegression()\n",
    ").fit(X_train, y_train)"
   ]
  },
  {
   "cell_type": "code",
   "execution_count": 27,
   "id": "74980d91",
   "metadata": {},
   "outputs": [
    {
     "name": "stdout",
     "output_type": "stream",
     "text": [
      "acc train: 0.8318\n",
      "acc test: 0.8329\n"
     ]
    }
   ],
   "source": [
    "acc_train = accuracy_score(y_train, model.predict(X_train))\n",
    "acc_test = accuracy_score(y_test, model.predict(X_test))\n",
    "\n",
    "print(\"acc train:\", acc_train.round(4))\n",
    "print(\"acc test:\", acc_test.round(4))"
   ]
  },
  {
   "cell_type": "markdown",
   "id": "fcdc9c4a",
   "metadata": {},
   "source": [
    "as we can see both the training and test set beat the baseline, and the test set did a little bit better than the training set."
   ]
  },
  {
   "cell_type": "markdown",
   "id": "d05fe046",
   "metadata": {},
   "source": [
    "### communicating the result"
   ]
  },
  {
   "cell_type": "code",
   "execution_count": 28,
   "id": "40090873",
   "metadata": {},
   "outputs": [],
   "source": [
    "coefficient = model.named_steps[\"logisticregression\"].coef_[0]\n",
    "feature = model.named_steps[\"onehotencoder\"].get_feature_names()"
   ]
  },
  {
   "cell_type": "code",
   "execution_count": 31,
   "id": "4d903c3e",
   "metadata": {},
   "outputs": [
    {
     "data": {
      "text/plain": [
       "Gender_Male                   0.715482\n",
       "Contract Length_Quarterly     0.758068\n",
       "Contract Length_Annual        0.764321\n",
       "Subscription Type_Premium     0.960568\n",
       "Subscription Type_Standard    0.965420\n",
       "Usage Frequency               0.983671\n",
       "Total Spend                   0.995798\n",
       "Tenure                        0.998302\n",
       "Contract Length_nan           0.999980\n",
       "Gender_nan                    0.999980\n",
       "Subscription Type_nan         0.999980\n",
       "Age                           1.007177\n",
       "Subscription Type_Basic       1.008653\n",
       "Last Interaction              1.021793\n",
       "Payment Delay                 1.111696\n",
       "Gender_Female                 1.307337\n",
       "Contract Length_Monthly       1.614367\n",
       "Support Calls                 1.631716\n",
       "dtype: float64"
      ]
     },
     "execution_count": 31,
     "metadata": {},
     "output_type": "execute_result"
    }
   ],
   "source": [
    "feat_imp = pd.Series(np.exp(coefficient), feature).sort_values()\n",
    "feat_imp"
   ]
  },
  {
   "cell_type": "code",
   "execution_count": 33,
   "id": "0402d7a8",
   "metadata": {},
   "outputs": [
    {
     "data": {
      "image/png": "[encoded data removed]",
      "text/plain": [
       "<Figure size 640x480 with 1 Axes>"
      ]
     },
     "metadata": {},
     "output_type": "display_data"
    }
   ],
   "source": [
    "feat_imp.tail(10).sort_values(key=abs).plot(kind=\"barh\");"
   ]
  },
  {
   "cell_type": "code",
   "execution_count": 35,
   "id": "f5087550",
   "metadata": {},
   "outputs": [
    {
     "data": {
      "image/png": "[encoded data removed]",
      "text/plain": [
       "<Figure size 640x480 with 1 Axes>"
      ]
     },
     "metadata": {},
     "output_type": "display_data"
    }
   ],
   "source": [
    "feat_imp.head(10).sort_values(key=abs).plot(kind=\"barh\");"
   ]
  },
  {
   "cell_type": "code",
   "execution_count": null,
   "id": "f889401a",
   "metadata": {},
   "outputs": [],
   "source": []
  }
 ],
 "metadata": {
  "kernelspec": {
   "display_name": "Python 3 (ipykernel)",
   "language": "python",
   "name": "python3"
  },
  "language_info": {
   "codemirror_mode": {
    "name": "ipython",
    "version": 3
   },
   "file_extension": ".py",
   "mimetype": "text/x-python",
   "name": "python",
   "nbconvert_exporter": "python",
   "pygments_lexer": "ipython3",
   "version": "3.9.13"
  }
 },
 "nbformat": 4,
 "nbformat_minor": 5
}
